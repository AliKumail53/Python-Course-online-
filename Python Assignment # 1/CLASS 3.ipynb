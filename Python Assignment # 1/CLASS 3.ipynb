{
 "cells": [
  {
   "cell_type": "code",
   "execution_count": 2,
   "id": "0e2684e5",
   "metadata": {},
   "outputs": [
    {
     "name": "stdout",
     "output_type": "stream",
     "text": [
      "A\n"
     ]
    }
   ],
   "source": [
    "# LAST ASSIGNMENT\n",
    "eng = 70;\n",
    "isl = 65;\n",
    "math = 95;\n",
    "total = 300;\n",
    "perc = (eng + isl + math) / total * 100;\n",
    "if perc < 100 and perc > 80:\n",
    "    print(\"A+\");\n",
    "elif perc < 80 and perc > 70:\n",
    "    print(\"A\");\n",
    "elif perc < 70 and perc > 60:\n",
    "    print(\"B\");\n",
    "elif perc < 60 and perc > 50:\n",
    "    print(\"C\");\n",
    "elif perc < 50 and perc > 40:\n",
    "    print(\"D\");\n",
    "elif perc < 40 and perc > 30:\n",
    "    print(\"E\");\n",
    "elif perc < 0 and perc > 100:\n",
    "    print(\"did not write correct\")\n",
    "else:\n",
    "    print(\"Fail\")\n"
   ]
  },
  {
   "cell_type": "code",
   "execution_count": 3,
   "id": "d5c9e9e0",
   "metadata": {},
   "outputs": [
    {
     "name": "stdout",
     "output_type": "stream",
     "text": [
      "81\n"
     ]
    }
   ],
   "source": [
    "y = 3**4;\n",
    "print(y);"
   ]
  },
  {
   "cell_type": "code",
   "execution_count": 6,
   "id": "d841a4ee",
   "metadata": {},
   "outputs": [
    {
     "name": "stdout",
     "output_type": "stream",
     "text": [
      "True\n"
     ]
    }
   ],
   "source": [
    "x = 10;\n",
    "y = 12;\n",
    "a = 30;\n",
    "b = 8;\n",
    "if x + y == a - b:\n",
    "    print(True);\n",
    "else:\n",
    "    print(False);\n",
    "    "
   ]
  },
  {
   "cell_type": "code",
   "execution_count": 11,
   "id": "99248749",
   "metadata": {},
   "outputs": [
    {
     "name": "stdout",
     "output_type": "stream",
     "text": [
      "ali,haider,sarfraz\n"
     ]
    }
   ],
   "source": [
    "name1 = \"ali\";\n",
    "name2 = \"haider\";\n",
    "name3 = \"sarfraz\";\n",
    "print(name1+\",\"+name2+\",\"+name3);\n",
    "      "
   ]
  },
  {
   "cell_type": "code",
   "execution_count": null,
   "id": "1a06e046",
   "metadata": {},
   "outputs": [],
   "source": []
  },
  {
   "cell_type": "code",
   "execution_count": 13,
   "id": "b7c0258e",
   "metadata": {},
   "outputs": [
    {
     "name": "stdout",
     "output_type": "stream",
     "text": [
      "('lion', 645, False, 76.7)\n"
     ]
    }
   ],
   "source": [
    "arr = (\"lion\",645,False,76.7);\n",
    "print(arr);"
   ]
  },
  {
   "cell_type": "code",
   "execution_count": 4,
   "id": "5ad28519",
   "metadata": {},
   "outputs": [
    {
     "ename": "NameError",
     "evalue": "name 'arr' is not defined",
     "output_type": "error",
     "traceback": [
      "\u001b[1;31m---------------------------------------------------------------------------\u001b[0m",
      "\u001b[1;31mNameError\u001b[0m                                 Traceback (most recent call last)",
      "\u001b[1;32m<ipython-input-4-986790cced14>\u001b[0m in \u001b[0;36m<module>\u001b[1;34m\u001b[0m\n\u001b[1;32m----> 1\u001b[1;33m \u001b[0mar3\u001b[0m \u001b[1;33m=\u001b[0m \u001b[0marr\u001b[0m\u001b[1;33m[\u001b[0m\u001b[1;33m:\u001b[0m\u001b[1;36m2\u001b[0m\u001b[1;33m]\u001b[0m\u001b[1;33m\u001b[0m\u001b[1;33m\u001b[0m\u001b[0m\n\u001b[0m",
      "\u001b[1;31mNameError\u001b[0m: name 'arr' is not defined"
     ]
    }
   ],
   "source": []
  }
 ],
 "metadata": {
  "kernelspec": {
   "display_name": "Python 3",
   "language": "python",
   "name": "python3"
  },
  "language_info": {
   "codemirror_mode": {
    "name": "ipython",
    "version": 3
   },
   "file_extension": ".py",
   "mimetype": "text/x-python",
   "name": "python",
   "nbconvert_exporter": "python",
   "pygments_lexer": "ipython3",
   "version": "3.8.8"
  }
 },
 "nbformat": 4,
 "nbformat_minor": 5
}
