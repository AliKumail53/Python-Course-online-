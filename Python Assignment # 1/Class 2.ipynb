{
 "cells": [
  {
   "cell_type": "code",
   "execution_count": 1,
   "id": "588e48bb",
   "metadata": {},
   "outputs": [
    {
     "name": "stdout",
     "output_type": "stream",
     "text": [
      "Hello World\n"
     ]
    }
   ],
   "source": [
    "print(\"Hello World\");"
   ]
  },
  {
   "cell_type": "code",
   "execution_count": 2,
   "id": "33e90d1e",
   "metadata": {},
   "outputs": [
    {
     "name": "stdout",
     "output_type": "stream",
     "text": [
      "cancel\n"
     ]
    }
   ],
   "source": [
    "#12 TESTING SETS OF CONDITIONS\n",
    "# AND , OR\n",
    "\n",
    "a = 10;\n",
    "b = 1;\n",
    "c = 2;\n",
    "d = 22;\n",
    "e = 3;\n",
    "f = 33;\n",
    "g = 55;\n",
    "h = 12;\n",
    "if (a == b and c == d) or (e == f or g == h):\n",
    "    print(\"okay\");\n",
    "else:\n",
    "    print(\"cancel\")\n",
    "    \n",
    "    \n",
    "    "
   ]
  },
  {
   "cell_type": "code",
   "execution_count": 3,
   "id": "719efa05",
   "metadata": {},
   "outputs": [
    {
     "name": "stdout",
     "output_type": "stream",
     "text": [
      "104\n"
     ]
    }
   ],
   "source": [
    "a = 6;\n",
    "b = 98;\n",
    "c = a+b;\n",
    "print(c);"
   ]
  },
  {
   "cell_type": "code",
   "execution_count": 4,
   "id": "ef73a3d2",
   "metadata": {},
   "outputs": [
    {
     "name": "stdout",
     "output_type": "stream",
     "text": [
      "alikumail\n"
     ]
    }
   ],
   "source": [
    "x = \"ali\";\n",
    "y = \" kumail\";\n",
    "z = x+y;\n",
    "print(z);"
   ]
  },
  {
   "cell_type": "code",
   "execution_count": 4,
   "id": "bf8b0d53",
   "metadata": {},
   "outputs": [
    {
     "name": "stdout",
     "output_type": "stream",
     "text": [
      "48\n"
     ]
    }
   ],
   "source": [
    "# concatination(merge)\n",
    "f = \"4\";\n",
    "g = \"8\";\n",
    "h = f+g;\n",
    "print(f+g);\n"
   ]
  },
  {
   "cell_type": "code",
   "execution_count": 7,
   "id": "af85c1f0",
   "metadata": {},
   "outputs": [
    {
     "ename": "TypeError",
     "evalue": "can only concatenate str (not \"int\") to str",
     "output_type": "error",
     "traceback": [
      "\u001b[1;31m---------------------------------------------------------------------------\u001b[0m",
      "\u001b[1;31mTypeError\u001b[0m                                 Traceback (most recent call last)",
      "\u001b[1;32m<ipython-input-7-bfe3beaca652>\u001b[0m in \u001b[0;36m<module>\u001b[1;34m\u001b[0m\n\u001b[0;32m      1\u001b[0m \u001b[0ma\u001b[0m \u001b[1;33m=\u001b[0m \u001b[1;34m\"10\"\u001b[0m\u001b[1;33m\u001b[0m\u001b[1;33m\u001b[0m\u001b[0m\n\u001b[0;32m      2\u001b[0m \u001b[0mb\u001b[0m \u001b[1;33m=\u001b[0m \u001b[1;36m20\u001b[0m\u001b[1;33m\u001b[0m\u001b[1;33m\u001b[0m\u001b[0m\n\u001b[1;32m----> 3\u001b[1;33m \u001b[0mc\u001b[0m \u001b[1;33m=\u001b[0m \u001b[0ma\u001b[0m \u001b[1;33m+\u001b[0m \u001b[0mb\u001b[0m\u001b[1;33m\u001b[0m\u001b[1;33m\u001b[0m\u001b[0m\n\u001b[0m\u001b[0;32m      4\u001b[0m \u001b[0mprint\u001b[0m\u001b[1;33m(\u001b[0m\u001b[0mc\u001b[0m\u001b[1;33m)\u001b[0m\u001b[1;33m\u001b[0m\u001b[1;33m\u001b[0m\u001b[0m\n",
      "\u001b[1;31mTypeError\u001b[0m: can only concatenate str (not \"int\") to str"
     ]
    }
   ],
   "source": [
    "a = \"10\";\n",
    "b = 20;\n",
    "c = a + b;\n",
    "print(c);"
   ]
  },
  {
   "cell_type": "code",
   "execution_count": 9,
   "id": "462d8cc5",
   "metadata": {},
   "outputs": [
    {
     "name": "stdout",
     "output_type": "stream",
     "text": [
      "8\n"
     ]
    }
   ],
   "source": [
    "x = 8;\n",
    "y = x + 7;\n",
    "z = y - x + 1;\n",
    "print(z);"
   ]
  },
  {
   "cell_type": "code",
   "execution_count": 13,
   "id": "f7122755",
   "metadata": {},
   "outputs": [
    {
     "name": "stdout",
     "output_type": "stream",
     "text": [
      "55.0\n"
     ]
    }
   ],
   "source": [
    "a = 12 - 4 / 2 + 9 * 5;\n",
    "print(a);"
   ]
  },
  {
   "cell_type": "code",
   "execution_count": 12,
   "id": "c9839781",
   "metadata": {},
   "outputs": [
    {
     "name": "stdout",
     "output_type": "stream",
     "text": [
      "3.6363636363636367\n"
     ]
    }
   ],
   "source": [
    "a = ((12 - 4) / (2 + 9) * 5);\n",
    "print(a);"
   ]
  },
  {
   "cell_type": "code",
   "execution_count": 14,
   "id": "9b9c4627",
   "metadata": {},
   "outputs": [
    {
     "name": "stdout",
     "output_type": "stream",
     "text": [
      "1\n"
     ]
    }
   ],
   "source": [
    "x = 10;\n",
    "y = x % 3;\n",
    "print(y);"
   ]
  },
  {
   "cell_type": "code",
   "execution_count": 15,
   "id": "619c0599",
   "metadata": {},
   "outputs": [
    {
     "name": "stdout",
     "output_type": "stream",
     "text": [
      "12\n"
     ]
    }
   ],
   "source": [
    "f = 10;\n",
    "f = 12;\n",
    "print(f);\n"
   ]
  },
  {
   "cell_type": "code",
   "execution_count": 17,
   "id": "0dc060c9",
   "metadata": {},
   "outputs": [
    {
     "name": "stdout",
     "output_type": "stream",
     "text": [
      "7\n"
     ]
    }
   ],
   "source": [
    "g = 5;\n",
    "g = g + 2;\n",
    "print(g);"
   ]
  },
  {
   "cell_type": "code",
   "execution_count": 18,
   "id": "3211dadb",
   "metadata": {},
   "outputs": [
    {
     "name": "stdout",
     "output_type": "stream",
     "text": [
      "6\n"
     ]
    }
   ],
   "source": [
    "a = 3;\n",
    "a += 3;\n",
    "print(a);"
   ]
  },
  {
   "cell_type": "code",
   "execution_count": 23,
   "id": "d1fcd193",
   "metadata": {},
   "outputs": [
    {
     "name": "stdout",
     "output_type": "stream",
     "text": [
      "my name is  Ali kum \n"
     ]
    }
   ],
   "source": [
    "a = \"Ali kum \"\n",
    "print (\"my name is  \" +  a)"
   ]
  },
  {
   "cell_type": "code",
   "execution_count": 2,
   "id": "f4a43522",
   "metadata": {},
   "outputs": [
    {
     "name": "stdout",
     "output_type": "stream",
     "text": [
      "Allow for Ride\n"
     ]
    }
   ],
   "source": [
    "gender = \"male\";\n",
    "if gender == \"male\":\n",
    "    print(\"Allow for Ride\");"
   ]
  },
  {
   "cell_type": "code",
   "execution_count": 26,
   "id": "4b83607c",
   "metadata": {},
   "outputs": [
    {
     "name": "stdout",
     "output_type": "stream",
     "text": [
      "Allow for Ride\n"
     ]
    }
   ],
   "source": [
    "gender = \"male\";\n",
    "if gender == \"male\":\n",
    "    print(\"Allow for Ride\");\n",
    "else:\n",
    "    print(\"Rok Lo\");"
   ]
  },
  {
   "cell_type": "code",
   "execution_count": 27,
   "id": "625634a3",
   "metadata": {},
   "outputs": [
    {
     "name": "stdout",
     "output_type": "stream",
     "text": [
      "Allow for Ride\n"
     ]
    }
   ],
   "source": [
    "gender = \"female\";\n",
    "if gender != \"male\":\n",
    "    print(\"Allow for Ride\");\n",
    "else:\n",
    "    print(\"Rok Lo\");"
   ]
  },
  {
   "cell_type": "code",
   "execution_count": 28,
   "id": "4f06d5a3",
   "metadata": {},
   "outputs": [
    {
     "name": "stdout",
     "output_type": "stream",
     "text": [
      "Rok Lo\n"
     ]
    }
   ],
   "source": [
    "age = 14;\n",
    "gender = \"female\";\n",
    "if age > 18 or gender ==\"male\":\n",
    "    print(\"Allow for Ride\");\n",
    "else:\n",
    "    print(\"Rok Lo\");"
   ]
  },
  {
   "cell_type": "code",
   "execution_count": 29,
   "id": "ea602cbb",
   "metadata": {},
   "outputs": [
    {
     "name": "stdout",
     "output_type": "stream",
     "text": [
      "Allow for Ride\n"
     ]
    }
   ],
   "source": [
    "age = 14;\n",
    "gender = \"female\";\n",
    "if age > 10 or gender ==\"male\":\n",
    "    print(\"Allow for Ride\");\n",
    "else:\n",
    "    print(\"Rok Lo\");"
   ]
  },
  {
   "cell_type": "code",
   "execution_count": 4,
   "id": "634b112e",
   "metadata": {},
   "outputs": [
    {
     "name": "stdout",
     "output_type": "stream",
     "text": [
      "Grade A+\n"
     ]
    }
   ],
   "source": [
    "percent = 88\n",
    "if percent < 100 and percent > 80:\n",
    "    print(\"Grade A+\")\n",
    "elif percent < 80 and percent > 70:\n",
    "    print(\"Grade A\");\n",
    "elif percent < 70 and percent > 80:\n",
    "    print(\"Grade B\")\n",
    "else:\n",
    "    print(\"Fail\")\n",
    "    "
   ]
  },
  {
   "cell_type": "code",
   "execution_count": 1,
   "id": "6c58e633",
   "metadata": {},
   "outputs": [
    {
     "name": "stdout",
     "output_type": "stream",
     "text": [
      "okay\n",
      "sahi\n",
      "Allow\n"
     ]
    }
   ],
   "source": [
    "number_of_students = 4;\n",
    "if number_of_students == 4:\n",
    "    print(\"okay\");\n",
    "    print(\"sahi\");\n",
    "    print(\"Allow\");"
   ]
  },
  {
   "cell_type": "code",
   "execution_count": 9,
   "id": "d18d39b4",
   "metadata": {},
   "outputs": [
    {
     "name": "stdout",
     "output_type": "stream",
     "text": [
      "cancel\n"
     ]
    }
   ],
   "source": [
    "num_of_stud = 4;\n",
    "num_of_teach = 2;\n",
    "if num_of_stud == 5 or num_of_teach == 4:\n",
    "    print(\"okay\");\n",
    "    print(\"sahi\");\n",
    "    print(\"Allow\");\n",
    "else:\n",
    "    print(\"cancel\");"
   ]
  },
  {
   "cell_type": "code",
   "execution_count": 7,
   "id": "20ff621f",
   "metadata": {},
   "outputs": [
    {
     "name": "stdout",
     "output_type": "stream",
     "text": [
      "5 > 2\n",
      "five is greater than two\n",
      "6 is greater than 2\n",
      "Rest of the code\n"
     ]
    }
   ],
   "source": [
    "if 5 > 2:\n",
    "    print(\"5 > 2\");\n",
    "    print(\"five is greater than two\");\n",
    "    if 6 > 2:\n",
    "        print(\"6 is greater than 2\");\n",
    "print(\"Rest of the code\");"
   ]
  }
 ],
 "metadata": {
  "kernelspec": {
   "display_name": "Python 3",
   "language": "python",
   "name": "python3"
  },
  "language_info": {
   "codemirror_mode": {
    "name": "ipython",
    "version": 3
   },
   "file_extension": ".py",
   "mimetype": "text/x-python",
   "name": "python",
   "nbconvert_exporter": "python",
   "pygments_lexer": "ipython3",
   "version": "3.8.8"
  }
 },
 "nbformat": 4,
 "nbformat_minor": 5
}
