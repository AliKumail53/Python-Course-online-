{
 "cells": [
  {
   "cell_type": "code",
   "execution_count": 4,
   "id": "9b2254d6",
   "metadata": {},
   "outputs": [
    {
     "name": "stdout",
     "output_type": "stream",
     "text": [
      "Hello World!\n"
     ]
    }
   ],
   "source": [
    "#1 PRINT\n",
    "\n",
    "print(\"Hello World!\");"
   ]
  },
  {
   "cell_type": "code",
   "execution_count": 5,
   "id": "48ca5630",
   "metadata": {},
   "outputs": [
    {
     "name": "stdout",
     "output_type": "stream",
     "text": [
      "Kumail Ali\n"
     ]
    }
   ],
   "source": [
    "#2 VARIABLE\n",
    "# VARIABLE FOR STRINGS\n",
    "\n",
    "my_name = \"Kumail Ali\";\n",
    "print(my_name);\n",
    "\n",
    "\n"
   ]
  },
  {
   "cell_type": "code",
   "execution_count": 6,
   "id": "0551bb93",
   "metadata": {},
   "outputs": [
    {
     "name": "stdout",
     "output_type": "stream",
     "text": [
      "Kurasail\n"
     ]
    }
   ],
   "source": [
    "#2 CHANGING VARIABLE (note that my_name is no longer \"Kumail Ali\")\n",
    "\n",
    "my_name = \"Kurasail\";\n",
    "print(my_name);\n",
    "\n",
    "\n",
    "\n"
   ]
  },
  {
   "cell_type": "code",
   "execution_count": 8,
   "id": "a3edb9aa",
   "metadata": {},
   "outputs": [
    {
     "data": {
      "text/plain": [
       "'Kurasail'"
      ]
     },
     "execution_count": 8,
     "metadata": {},
     "output_type": "execute_result"
    }
   ],
   "source": [
    "#2 YOU CAN NEVER ENCLOSE A VARIABLE NAME IN QUOTATION MARKS.\n",
    "# VARIABLE NAMES CAN'T HAVE SPACES IN THEM.\n",
    "'''country of origin (not legal)\n",
    "   countryoforigin   (legal)\n",
    "'''\n",
    "my_name\n",
    "\n",
    "\n"
   ]
  },
  {
   "cell_type": "code",
   "execution_count": 9,
   "id": "98615312",
   "metadata": {},
   "outputs": [
    {
     "name": "stdout",
     "output_type": "stream",
     "text": [
      "100\n"
     ]
    }
   ],
   "source": [
    "#3 VARIABLES FOR NUMBERS\n",
    "\n",
    "mass = 100;\n",
    "print(mass);\n",
    "\n",
    "\n"
   ]
  },
  {
   "cell_type": "code",
   "execution_count": 10,
   "id": "934b53ab",
   "metadata": {},
   "outputs": [
    {
     "name": "stdout",
     "output_type": "stream",
     "text": [
      "150\n"
     ]
    }
   ],
   "source": [
    "#3 ADDITION (it can only adds and subtracts \"numbers\" not strings)\n",
    "\n",
    "new_mass = mass + 50;\n",
    "print(new_mass);\n",
    "\n",
    "\n"
   ]
  },
  {
   "cell_type": "code",
   "execution_count": 11,
   "id": "7cf54190",
   "metadata": {},
   "outputs": [
    {
     "name": "stdout",
     "output_type": "stream",
     "text": [
      "4.5\n"
     ]
    }
   ],
   "source": [
    "#3 WITH 2 VARIABLES\n",
    "\n",
    "left_side = 30;\n",
    "right_side = 25.5;\n",
    "new_side = left_side - right_side;\n",
    "print(new_side);\n",
    "\n",
    "\n",
    "\n",
    "\n"
   ]
  },
  {
   "cell_type": "code",
   "execution_count": 12,
   "id": "479ff893",
   "metadata": {},
   "outputs": [
    {
     "name": "stdout",
     "output_type": "stream",
     "text": [
      "94\n"
     ]
    }
   ],
   "source": [
    "#3 NOTE THAT A VARIABLE CAN BE USED IN CALCULATING ITS OWN NEW VALUE\n",
    "\n",
    "far = 60;\n",
    "far = far + 34;\n",
    "print(far);\n",
    "\n",
    "\n"
   ]
  },
  {
   "cell_type": "code",
   "execution_count": 1,
   "id": "793adeb3",
   "metadata": {},
   "outputs": [
    {
     "name": "stdout",
     "output_type": "stream",
     "text": [
      "15\n"
     ]
    }
   ],
   "source": [
    "#4 MATH EXPRESSIONS ( familiar operators i.e. \" + , - , / , * \"etc )\n",
    "\n",
    "s_number = 8 + 7;\n",
    "print(s_number);\n",
    "\n",
    "\n"
   ]
  },
  {
   "cell_type": "code",
   "execution_count": 2,
   "id": "7f2f43e2",
   "metadata": {},
   "outputs": [
    {
     "name": "stdout",
     "output_type": "stream",
     "text": [
      "8\n"
     ]
    }
   ],
   "source": [
    "#4 MATH EXPRESSIONS ( familiar operators i.e. + - / * etc )\n",
    "\n",
    "loss = 40 - 32;\n",
    "print(loss);\n"
   ]
  },
  {
   "cell_type": "code",
   "execution_count": 3,
   "id": "886644e1",
   "metadata": {},
   "outputs": [
    {
     "name": "stdout",
     "output_type": "stream",
     "text": [
      "12.0\n"
     ]
    }
   ],
   "source": [
    "#4 MATH EXPRESSIONS ( familiar operators i.e. + - / * etc )\n",
    "\n",
    "fam_number = 12 / 4 * 4;\n",
    "print(fam_number);\n",
    "\n",
    "\n"
   ]
  },
  {
   "cell_type": "code",
   "execution_count": 4,
   "id": "85696b65",
   "metadata": {},
   "outputs": [
    {
     "name": "stdout",
     "output_type": "stream",
     "text": [
      "41\n"
     ]
    }
   ],
   "source": [
    "#4 CALCULATION USING AN EXPRESSION CONTAINING NOTHING BUT VARIABLES ( familiar operators i.e. + - / * etc )\n",
    "\n",
    "number = 10;\n",
    "total = 31;\n",
    "sum_number = number + total;\n",
    "print(sum_number);\n",
    "\n",
    "\n",
    "\n"
   ]
  },
  {
   "cell_type": "code",
   "execution_count": null,
   "id": "35d540d3",
   "metadata": {},
   "outputs": [],
   "source": [
    "#5 VARIABLE NAMES ( legal and illegal)\n",
    "# some of the illegal variable names in python\n",
    "\n",
    "False\n",
    "and\n",
    "or\n",
    "True\n",
    "assert\n",
    "if\n",
    "import\n",
    "\n",
    "\n",
    "\n"
   ]
  },
  {
   "cell_type": "code",
   "execution_count": 5,
   "id": "60dfe3ec",
   "metadata": {},
   "outputs": [
    {
     "name": "stdout",
     "output_type": "stream",
     "text": [
      "1\n"
     ]
    }
   ],
   "source": [
    "#6 MATH EXPRESSIONS ( unfamiliar operators )\n",
    "# MODULO operator (%) ( Remainder of division )\n",
    "\n",
    "mod_one = 10 % 3;\n",
    "print(mod_one);\n",
    "\n"
   ]
  },
  {
   "cell_type": "code",
   "execution_count": 6,
   "id": "feb1004a",
   "metadata": {},
   "outputs": [
    {
     "name": "stdout",
     "output_type": "stream",
     "text": [
      "0\n"
     ]
    }
   ],
   "source": [
    "#6 MODULO operator ( Remainder of division )\n",
    " \n",
    "mod_and_1 = 9 % 3;\n",
    "print(mod_and_1);\n",
    "\n",
    "\n"
   ]
  },
  {
   "cell_type": "code",
   "execution_count": 7,
   "id": "9c65b101",
   "metadata": {},
   "outputs": [
    {
     "name": "stdout",
     "output_type": "stream",
     "text": [
      "55\n"
     ]
    }
   ],
   "source": [
    "#6 just like ... simple operation\n",
    "# SHORTHAND WAY ( shortcut way )\n",
    "mass = 10;\n",
    "mass += 45;\n",
    "print(mass);\n",
    "\n",
    "\n"
   ]
  },
  {
   "cell_type": "code",
   "execution_count": 8,
   "id": "943951f1",
   "metadata": {},
   "outputs": [
    {
     "name": "stdout",
     "output_type": "stream",
     "text": [
      "50\n"
     ]
    }
   ],
   "source": [
    "#6 can do with other operations as well just like the same ...\n",
    "\n",
    "mass_1 = 10;\n",
    "mass_1 *= 5;\n",
    "print(mass_1);\n",
    "\n",
    "\n"
   ]
  },
  {
   "cell_type": "code",
   "execution_count": 1,
   "id": "d90878de",
   "metadata": {},
   "outputs": [
    {
     "name": "stdout",
     "output_type": "stream",
     "text": [
      "17\n"
     ]
    }
   ],
   "source": [
    "#7 MATHEMATICAL EXPRESSION (eliminating ambiguity)\n",
    "# BODMAS RULE :\n",
    "\n",
    "total_cost = 2 + 3 * 5;\n",
    "print(total_cost);\n",
    "\n"
   ]
  },
  {
   "cell_type": "code",
   "execution_count": 2,
   "id": "701c6884",
   "metadata": {},
   "outputs": [
    {
     "name": "stdout",
     "output_type": "stream",
     "text": [
      "25\n"
     ]
    }
   ],
   "source": [
    "#7 PARENTHESIS\n",
    "\n",
    "total_cost = ( 2 + 3 ) * 5;\n",
    "print(total_cost);\n"
   ]
  },
  {
   "cell_type": "code",
   "execution_count": 5,
   "id": "ee62aa25",
   "metadata": {},
   "outputs": [
    {
     "name": "stdout",
     "output_type": "stream",
     "text": [
      "20\n"
     ]
    }
   ],
   "source": [
    "#7 Bodmas and parenthesis\n",
    "\n",
    "result = ( 2 * 4 ) * 2 + 4;\n",
    "print(result);"
   ]
  },
  {
   "cell_type": "code",
   "execution_count": 6,
   "id": "bafb420d",
   "metadata": {},
   "outputs": [
    {
     "name": "stdout",
     "output_type": "stream",
     "text": [
      "48\n"
     ]
    }
   ],
   "source": [
    "#7 Bodmas and parenthesis\n",
    "\n",
    "result = ( 2 * 4 ) * ( 2 + 4 );\n",
    "print(result);"
   ]
  },
  {
   "cell_type": "code",
   "execution_count": 9,
   "id": "dbb1c273",
   "metadata": {},
   "outputs": [
    {
     "name": "stdout",
     "output_type": "stream",
     "text": [
      "20\n"
     ]
    }
   ],
   "source": [
    "#7 Make sure that as many brackets you open , you close that much brackets too.\n",
    "\n",
    "result = (( 2 * 4 ) * 2 ) + 4;\n",
    "print(result);\n",
    "\n"
   ]
  },
  {
   "cell_type": "code",
   "execution_count": 11,
   "id": "c59f08f8",
   "metadata": {},
   "outputs": [
    {
     "name": "stdout",
     "output_type": "stream",
     "text": [
      " Hello  Ali  ,  Kumail  and  haider \n"
     ]
    }
   ],
   "source": [
    "#8 CONCATENATING TEXT STRINGS\n",
    "\n",
    "yellow = \" Hello \";\n",
    "green = \" Ali \";\n",
    "blue = \" , \";\n",
    "orange = \" Kumail \";\n",
    "pink = \" and \";\n",
    "purple = \" haider \";\n",
    "print(yellow + green + blue + orange + pink + purple);\n",
    "\n"
   ]
  },
  {
   "cell_type": "code",
   "execution_count": 16,
   "id": "80524adf",
   "metadata": {},
   "outputs": [
    {
     "name": "stdout",
     "output_type": "stream",
     "text": [
      " Hello  Sarararara \n"
     ]
    }
   ],
   "source": [
    "#8 Concatinate \n",
    "\n",
    "greeting = (\" Hello \" + \" Sarararara \");\n",
    "print(greeting);\n",
    "\n"
   ]
  },
  {
   "cell_type": "code",
   "execution_count": 17,
   "id": "517e8d7e",
   "metadata": {},
   "outputs": [
    {
     "name": "stdout",
     "output_type": "stream",
     "text": [
      "AliKhubsurat\n"
     ]
    }
   ],
   "source": [
    "#8 CONCATINATION OF VARIABLE\n",
    "\n",
    "first = \"Ali\";\n",
    "second = \"Khubsurat\";\n",
    "last = first + second;\n",
    "print(last);"
   ]
  },
  {
   "cell_type": "code",
   "execution_count": 5,
   "id": "2fbf734b",
   "metadata": {},
   "outputs": [
    {
     "name": "stdout",
     "output_type": "stream",
     "text": [
      "okay\n"
     ]
    }
   ],
   "source": [
    "#9 IF STATEMENT\n",
    "# NOTE THAT \"single '=' assigns a value to a variable.\"  ASSIGNING OPERATOR\n",
    "# In if statement we use double equal to ... sign'=='.\n",
    "# if statement ends with a colon \":\"\n",
    "\n",
    "animal = \"dog\";\n",
    "if animal == \"dog\":\n",
    "    print(\"okay\");\n",
    "\n",
    "\n"
   ]
  },
  {
   "cell_type": "code",
   "execution_count": 6,
   "id": "22874f7e",
   "metadata": {},
   "outputs": [
    {
     "name": "stdout",
     "output_type": "stream",
     "text": [
      "Allow\n"
     ]
    }
   ],
   "source": [
    "#9 IF STATEMENT\n",
    "\n",
    "gender = \"male\";\n",
    "if gender == \"male\":\n",
    "    print(\"Allow\");\n",
    "else:\n",
    "    print(\"Don't Allow\"); \n",
    "    \n",
    "    "
   ]
  },
  {
   "cell_type": "code",
   "execution_count": 8,
   "id": "8845e6ee",
   "metadata": {},
   "outputs": [
    {
     "name": "stdout",
     "output_type": "stream",
     "text": [
      "Ghalat\n"
     ]
    }
   ],
   "source": [
    "#9 IF STATEMENT WITH NUMBERS\n",
    "\n",
    "num_1 = 2 + 5;\n",
    "if num_1 == 8:\n",
    "    print(\"sahi\");\n",
    "else:\n",
    "    print(\"Ghalat\");\n",
    "\n",
    "\n",
    "\n"
   ]
  },
  {
   "cell_type": "code",
   "execution_count": 9,
   "id": "8498b3e6",
   "metadata": {},
   "outputs": [
    {
     "name": "stdout",
     "output_type": "stream",
     "text": [
      "okay\n",
      "sahi\n",
      "Allow\n"
     ]
    }
   ],
   "source": [
    "#9 YOU CAN MAKE 1,2,3... etc PRINTS... BUT IT DEPENDS ON IF STATEMENT \n",
    "\n",
    "number_of_students = 4;\n",
    "if number_of_students == 4:\n",
    "    print(\"okay\");\n",
    "    print(\"sahi\");\n",
    "    print(\"Allow\");"
   ]
  },
  {
   "cell_type": "code",
   "execution_count": 11,
   "id": "c88a9f9f",
   "metadata": {},
   "outputs": [
    {
     "name": "stdout",
     "output_type": "stream",
     "text": [
      "okay\n",
      "sahi\n",
      "Allow\n"
     ]
    }
   ],
   "source": [
    "#9 OR operation  \n",
    "\n",
    "num_of_stud = 4;\n",
    "num_of_teach = 2;\n",
    "if num_of_stud == 5 or num_of_teach == 2:\n",
    "    print(\"okay\");\n",
    "    print(\"sahi\");\n",
    "    print(\"Allow\");\n",
    "else:\n",
    "    print(\"cancel\");\n",
    "\n",
    "    \n"
   ]
  },
  {
   "cell_type": "code",
   "execution_count": 15,
   "id": "8fbbe335",
   "metadata": {},
   "outputs": [
    {
     "name": "stdout",
     "output_type": "stream",
     "text": [
      "Don't Allow\n"
     ]
    }
   ],
   "source": [
    "#9 AND operation\n",
    "\n",
    "age = 10;\n",
    "gender = \"male\";\n",
    "if age > 12 and gender == \"male\":\n",
    "    print(\"Allow\");\n",
    "else:\n",
    "    print(\"Don't Allow\");\n",
    "    \n",
    "\n"
   ]
  },
  {
   "cell_type": "code",
   "execution_count": 5,
   "id": "005595e2",
   "metadata": {},
   "outputs": [
    {
     "name": "stdout",
     "output_type": "stream",
     "text": [
      "x is lesser than y and lesser than z\n"
     ]
    }
   ],
   "source": [
    "#9 IF with number\n",
    "\n",
    "x = 10;\n",
    "y = 12;\n",
    "z = 34;\n",
    "if x < y < z:\n",
    "    print(\"x is lesser than y and lesser than z\")\n",
    "    \n",
    "    "
   ]
  },
  {
   "cell_type": "code",
   "execution_count": 8,
   "id": "2b6d3a35",
   "metadata": {},
   "outputs": [
    {
     "name": "stdout",
     "output_type": "stream",
     "text": [
      "okay\n"
     ]
    }
   ],
   "source": [
    "#9 IF with number\n",
    "\n",
    "x = 2;\n",
    "y = 7;\n",
    "z = 49;\n",
    "if x != y:\n",
    "    print(\"okay\");\n",
    "    \n",
    "    "
   ]
  },
  {
   "cell_type": "code",
   "execution_count": 12,
   "id": "f9ae3f00",
   "metadata": {},
   "outputs": [
    {
     "name": "stdout",
     "output_type": "stream",
     "text": [
      "Better Luck next time\n"
     ]
    }
   ],
   "source": [
    "#10 COMPARISON  OPERATORS \n",
    "\n",
    "'''\n",
    " ==\n",
    " != \n",
    " <\n",
    " <=\n",
    " >\n",
    " >=\n",
    "\n",
    "'''\n",
    "\n",
    "ticket_no = 3125;\n",
    "if ticket_no != 3120:\n",
    "    print(\"Better Luck next time\");\n",
    "    \n",
    "    "
   ]
  },
  {
   "cell_type": "code",
   "execution_count": 27,
   "id": "ae220837",
   "metadata": {},
   "outputs": [
    {
     "name": "stdout",
     "output_type": "stream",
     "text": [
      "False\n",
      "True\n",
      "True\n",
      "False\n",
      "False\n",
      "True\n"
     ]
    }
   ],
   "source": [
    "#10 comparison operator\n",
    "\n",
    "'''\n",
    "x = 3;\n",
    "y = 6;\n",
    "if x == y:\n",
    "    print(\"okay\");\n",
    "else:\n",
    "    print(\"not okay\");\n",
    "'''\n",
    "\n",
    "'''\n",
    "x = 3;\n",
    "y = 45;\n",
    "if x != y:\n",
    "    print(\"okay\");\n",
    "'''\n",
    "\n",
    "'''\n",
    "x = 34;\n",
    "y = 26;\n",
    "if x >= y:\n",
    "    print(\"true\");\n",
    "else:\n",
    "    print(\"false\");\n",
    "\n",
    "'''\n",
    "\n",
    "'''\n",
    "x = 5;\n",
    "y = 3;\n",
    "if x > y:\n",
    "    print();\n",
    "\n",
    "'''    \n",
    "\n",
    "x = 10;\n",
    "y = 20;\n",
    "print(x==y);\n",
    "print(x!=y);\n",
    "print(x<y);\n",
    "print(x>y);\n",
    "print(x>=y);\n",
    "print(x<=y);\n",
    "\n",
    "\n"
   ]
  },
  {
   "cell_type": "code",
   "execution_count": 33,
   "id": "2b93eb31",
   "metadata": {},
   "outputs": [
    {
     "name": "stdout",
     "output_type": "stream",
     "text": [
      "if and elif works\n"
     ]
    }
   ],
   "source": [
    "#11 ELSE AND ELIF( short cut of else if ) STATEMENT\n",
    "# The elif is short for else if. It allows us to check for multiple expressions.\n",
    "#  If the condition for if is False, it checks the condition of the next elif block and so on.\n",
    "#  If all the conditions are False, the body of else is executed.\n",
    "\n",
    "a = 10;\n",
    "b = 20;\n",
    "c = 44;\n",
    "if a > b:\n",
    "    print(\"a is greater than b\");\n",
    "elif a == c:\n",
    "    print(\"a is smaller than c\");\n",
    "else:\n",
    "    print(\"if and elif works\");\n",
    "\n"
   ]
  },
  {
   "cell_type": "code",
   "execution_count": 6,
   "id": "7a6e0434",
   "metadata": {},
   "outputs": [
    {
     "name": "stdout",
     "output_type": "stream",
     "text": [
      "Allow\n"
     ]
    }
   ],
   "source": [
    "#12 TESTING SETS OF CONDITIONS\n",
    "# AND , OR operation\n",
    "\n",
    "age = 32;\n",
    "gender = \"male\";\n",
    "if age > 30 and gender == \"male\":\n",
    "    print(\"Allow\");\n",
    "else:\n",
    "    print(\"Don't Allow\");\n",
    "    \n",
    "    "
   ]
  },
  {
   "cell_type": "code",
   "execution_count": 7,
   "id": "9c4716ee",
   "metadata": {},
   "outputs": [
    {
     "name": "stdout",
     "output_type": "stream",
     "text": [
      "Don't Allow\n"
     ]
    }
   ],
   "source": [
    "#12 TESTING SETS OF CONDITIONS\n",
    "# AND , OR operation\n",
    "\n",
    "age = 32;\n",
    "gender = \"male\";\n",
    "if age > 34 and gender == \"male\":\n",
    "    print(\"Allow\");\n",
    "else:\n",
    "    print(\"Don't Allow\");\n",
    "    \n",
    "    "
   ]
  },
  {
   "cell_type": "code",
   "execution_count": 8,
   "id": "b51eea74",
   "metadata": {},
   "outputs": [
    {
     "name": "stdout",
     "output_type": "stream",
     "text": [
      "Allow\n"
     ]
    }
   ],
   "source": [
    "#12 TESTING SETS OF CONDITIONS\n",
    "# AND , OR operation \n",
    "\n",
    "age = 32;\n",
    "gender = \"male\";\n",
    "if age > 34 or gender == \"male\":\n",
    "    print(\"Allow\");\n",
    "else:\n",
    "    print(\"Don't Allow\");\n",
    "    \n",
    "\n"
   ]
  },
  {
   "cell_type": "code",
   "execution_count": 12,
   "id": "eb73ba75",
   "metadata": {},
   "outputs": [
    {
     "name": "stdout",
     "output_type": "stream",
     "text": [
      "yes\n"
     ]
    }
   ],
   "source": [
    "#12 TESTING SETS OF CONDITIONS\n",
    "# AND , OR\n",
    "\n",
    "age = 71;\n",
    "country = \"pakistan\";\n",
    "if age < 80 or age > 70 and country == \"india\":\n",
    "    print(\"yes\");\n",
    "else:\n",
    "    (\"no\");\n",
    "\n"
   ]
  },
  {
   "cell_type": "code",
   "execution_count": 16,
   "id": "bf9cbd66",
   "metadata": {},
   "outputs": [
    {
     "name": "stdout",
     "output_type": "stream",
     "text": [
      "okay\n"
     ]
    }
   ],
   "source": [
    "#12 TESTING SETS OF CONDITIONS\n",
    "# AND , OR\n",
    "\n",
    "a = 10;\n",
    "b = 10;\n",
    "c = 22;\n",
    "d = 22;\n",
    "e = 3;\n",
    "f = 3;\n",
    "g = 55;\n",
    "h = 12;\n",
    "if (a == b and c == d) or (e == f or g == h):\n",
    "    print(\"okay\");\n",
    "else:\n",
    "    print(\"cancel\")\n",
    "    \n",
    "    \n",
    "    "
   ]
  },
  {
   "cell_type": "code",
   "execution_count": 1,
   "id": "218e220e",
   "metadata": {},
   "outputs": [
    {
     "name": "stdout",
     "output_type": "stream",
     "text": [
      "cancel\n"
     ]
    }
   ],
   "source": [
    "#12 TESTING SETS OF CONDITIONS\n",
    "# AND , OR\n",
    "\n",
    "a = 10;\n",
    "b = 1;\n",
    "c = 2;\n",
    "d = 22;\n",
    "e = 3;\n",
    "f = 33;\n",
    "g = 55;\n",
    "h = 12;\n",
    "if (a == b and c == d) or (e == f or g == h):\n",
    "    print(\"okay\");\n",
    "else:\n",
    "    print(\"cancel\")\n",
    "    \n",
    "    \n",
    "    "
   ]
  },
  {
   "cell_type": "code",
   "execution_count": 17,
   "id": "0fdb9b06",
   "metadata": {},
   "outputs": [
    {
     "name": "stdout",
     "output_type": "stream",
     "text": [
      "5 > 2\n",
      "five is greater than two\n",
      "6 is greater than 2\n",
      "Rest of the code\n"
     ]
    }
   ],
   "source": [
    "#13 IF STATEMENTS NESTED\n",
    "# if an \"if statememt\" conatins another \"if statement.\"\n",
    "\n",
    "if 5 > 2:\n",
    "    print(\"5 > 2\");\n",
    "    print(\"five is greater than two\");\n",
    "    if 6 > 2:\n",
    "        print(\"6 is greater than 2\");\n",
    "print(\"Rest of the code\");\n",
    "\n"
   ]
  },
  {
   "cell_type": "code",
   "execution_count": 18,
   "id": "412e0fa6",
   "metadata": {},
   "outputs": [
    {
     "name": "stdout",
     "output_type": "stream",
     "text": [
      "5 > 2\n",
      "five is greater than two\n",
      "Rest of the code\n"
     ]
    }
   ],
   "source": [
    "#13 IF STATEMENTS NESTED\n",
    "# if an \"if statememt\" conatins another \"if statement.\"\n",
    "\n",
    "if 5 > 2:\n",
    "    print(\"5 > 2\");\n",
    "    print(\"five is greater than two\");\n",
    "    if 6 < 2:\n",
    "        print(\"6 is greater than 2\");\n",
    "print(\"Rest of the code\");\n",
    "\n",
    "\n"
   ]
  },
  {
   "cell_type": "code",
   "execution_count": 21,
   "id": "aec3362c",
   "metadata": {},
   "outputs": [
    {
     "name": "stdout",
     "output_type": "stream",
     "text": [
      "Rest of the code\n"
     ]
    }
   ],
   "source": [
    "#13 IF STATEMENTS NESTED\n",
    "# if an \"if statememt\" conatins another \"if statement.\"\n",
    "\n",
    "'''\n",
    "if 5 < 2:\n",
    "    print(\"5 > 2\");\n",
    "    print(\"five is greater than two\");\n",
    "    if 6 < 2:\n",
    "        print(\"6 is greater than 2\");\n",
    "print(\"Rest of the code\");\n",
    "'''\n",
    "\n",
    "if 5 < 2:\n",
    "    print(\"5 > 2\");\n",
    "    print(\"five is greater than two\");\n",
    "    if 6 > 2:\n",
    "        print(\"6 is greater than 2\");\n",
    "print(\"Rest of the code\");\n",
    "\n",
    "\n"
   ]
  },
  {
   "cell_type": "code",
   "execution_count": null,
   "id": "a980f15f",
   "metadata": {},
   "outputs": [],
   "source": []
  }
 ],
 "metadata": {
  "kernelspec": {
   "display_name": "Python 3",
   "language": "python",
   "name": "python3"
  },
  "language_info": {
   "codemirror_mode": {
    "name": "ipython",
    "version": 3
   },
   "file_extension": ".py",
   "mimetype": "text/x-python",
   "name": "python",
   "nbconvert_exporter": "python",
   "pygments_lexer": "ipython3",
   "version": "3.8.8"
  }
 },
 "nbformat": 4,
 "nbformat_minor": 5
}
