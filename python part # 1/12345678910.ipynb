{
 "cells": [
  {
   "cell_type": "code",
   "execution_count": 1,
   "id": "a8831a82",
   "metadata": {},
   "outputs": [
    {
     "name": "stdout",
     "output_type": "stream",
     "text": [
      "['lion', 12, True, 5.69]\n"
     ]
    }
   ],
   "source": [
    "# LIST ... NAME (arr)\n",
    "\n",
    "arr = [\"lion\",12,True,5.69];\n",
    "print(arr);"
   ]
  },
  {
   "cell_type": "code",
   "execution_count": 2,
   "id": "26c45cff",
   "metadata": {},
   "outputs": [
    {
     "name": "stdout",
     "output_type": "stream",
     "text": [
      "['lion', 12, True, 5.69]\n"
     ]
    }
   ],
   "source": [
    "print(arr);"
   ]
  },
  {
   "cell_type": "code",
   "execution_count": 6,
   "id": "9219afd7",
   "metadata": {},
   "outputs": [
    {
     "name": "stdout",
     "output_type": "stream",
     "text": [
      "['lion', 12, 'Mustansar Hussain Kakkar', 5.69]\n"
     ]
    }
   ],
   "source": [
    "# REPLACEMENT OF ELEMENT ( w.r.t INDEX [] )\n",
    "\n",
    "arr [2] = \"Mustansar Hussain Kakkar\";\n",
    "print(arr);"
   ]
  },
  {
   "cell_type": "code",
   "execution_count": 7,
   "id": "8426e723",
   "metadata": {},
   "outputs": [
    {
     "name": "stdout",
     "output_type": "stream",
     "text": [
      "['lion', 12, 'Mustansar Hussain Kakkar', 5.69, '5.69']\n"
     ]
    }
   ],
   "source": [
    "# APPEND adds a value to the end\n",
    "\n",
    "arr.append(\"5.69\");\n",
    "print(arr);"
   ]
  },
  {
   "cell_type": "code",
   "execution_count": 8,
   "id": "262d964a",
   "metadata": {},
   "outputs": [
    {
     "name": "stdout",
     "output_type": "stream",
     "text": [
      "['lion', 12, 'Mustansar Hussain Kakkar', 5.69, '5.69', 'dkwgjbv']\n"
     ]
    }
   ],
   "source": [
    "# APPEND adds a value to the end\n",
    "\n",
    "arr.append(\"dkwgjbv\");\n",
    "print(arr);"
   ]
  },
  {
   "cell_type": "code",
   "execution_count": 9,
   "id": "3b729338",
   "metadata": {},
   "outputs": [
    {
     "data": {
      "text/plain": [
       "['lion', 12, 'Mustansar Hussain Kakkar', 5.69, '5.69', 'dkwgjbv']"
      ]
     },
     "execution_count": 9,
     "metadata": {},
     "output_type": "execute_result"
    }
   ],
   "source": [
    "arr"
   ]
  },
  {
   "cell_type": "code",
   "execution_count": 11,
   "id": "7b98f79a",
   "metadata": {},
   "outputs": [
    {
     "name": "stdout",
     "output_type": "stream",
     "text": [
      "Ali,Kumail,Salar,Mehdi,Zeeshan,Rahim\n"
     ]
    }
   ],
   "source": [
    "# LIST IS A GROUP OF ELEMENTS OR CHARACTER ...\n",
    "\n",
    "name1 = \"Ali\";\n",
    "name2 = \"Kumail\";\n",
    "name3 = \"Salar\";\n",
    "name4 = \"Mehdi\";\n",
    "name5 = \"Zeeshan\";\n",
    "name6 = \"Rahim\";\n",
    "print(name1 + \",\" + name2 + \",\" + name3 + \",\" + name4 + \",\" + name5 + \",\" + name6 );"
   ]
  },
  {
   "cell_type": "code",
   "execution_count": 12,
   "id": "4e38a05b",
   "metadata": {},
   "outputs": [
    {
     "name": "stdout",
     "output_type": "stream",
     "text": [
      "[' Ali ', ' Kumail ', ' Salar ', ' Mehdi ', ' Zeeshan ', ' Rahim ']\n"
     ]
    }
   ],
   "source": [
    "# LISTS\n",
    "\n",
    "name = [\" Ali \",\" Kumail \",\" Salar \",\" Mehdi \",\" Zeeshan \",\" Rahim \"];\n",
    "print(name);\n"
   ]
  },
  {
   "cell_type": "code",
   "execution_count": 7,
   "id": "0d69ecf9",
   "metadata": {},
   "outputs": [
    {
     "ename": "NameError",
     "evalue": "name 'name' is not defined",
     "output_type": "error",
     "traceback": [
      "\u001b[1;31m---------------------------------------------------------------------------\u001b[0m",
      "\u001b[1;31mNameError\u001b[0m                                 Traceback (most recent call last)",
      "\u001b[1;32m<ipython-input-7-131db99b36dd>\u001b[0m in \u001b[0;36m<module>\u001b[1;34m\u001b[0m\n\u001b[1;32m----> 1\u001b[1;33m \u001b[0mfull_name\u001b[0m \u001b[1;33m=\u001b[0m \u001b[0mname\u001b[0m\u001b[1;33m[\u001b[0m\u001b[1;36m2\u001b[0m\u001b[1;33m:\u001b[0m\u001b[1;36m4\u001b[0m\u001b[1;33m]\u001b[0m\u001b[1;33m;\u001b[0m\u001b[1;33m\u001b[0m\u001b[1;33m\u001b[0m\u001b[0m\n\u001b[0m\u001b[0;32m      2\u001b[0m \u001b[0mprint\u001b[0m\u001b[1;33m(\u001b[0m\u001b[0mname\u001b[0m\u001b[1;33m)\u001b[0m\u001b[1;33m;\u001b[0m\u001b[1;33m\u001b[0m\u001b[1;33m\u001b[0m\u001b[0m\n",
      "\u001b[1;31mNameError\u001b[0m: name 'name' is not defined"
     ]
    }
   ],
   "source": [
    "full_name = name[2:4];\n",
    "print(name);"
   ]
  },
  {
   "cell_type": "code",
   "execution_count": 13,
   "id": "a351b2da",
   "metadata": {},
   "outputs": [
    {
     "name": "stdout",
     "output_type": "stream",
     "text": [
      "['lion', 12, 'Mustansar Hussain Kakkar', 5.69, '5.69', 'dkwgjbv', ' Ali ', ' Kumail ', ' Salar ', ' Mehdi ', ' Zeeshan ', ' Rahim ']\n"
     ]
    }
   ],
   "source": [
    "# CAMEL CASE\n",
    "# CAN CONCATINATE THE LISTS ALSO\n",
    "\n",
    "newList = arr + name;\n",
    "print(newList);"
   ]
  },
  {
   "cell_type": "code",
   "execution_count": 14,
   "id": "049c3d8d",
   "metadata": {},
   "outputs": [
    {
     "data": {
      "text/plain": [
       "['lion', 12, 'Mustansar Hussain Kakkar', 5.69, '5.69', 'dkwgjbv']"
      ]
     },
     "execution_count": 14,
     "metadata": {},
     "output_type": "execute_result"
    }
   ],
   "source": [
    "arr"
   ]
  },
  {
   "cell_type": "code",
   "execution_count": 15,
   "id": "f0cfdcc7",
   "metadata": {},
   "outputs": [
    {
     "name": "stdout",
     "output_type": "stream",
     "text": [
      "['lion', 12, 'Mustansar Hussain Kakkar', ' furrrr ', 5.69, '5.69', 'dkwgjbv']\n"
     ]
    }
   ],
   "source": [
    "# INSERT (INSERTS A VALUE AND IT WORKS WITH INDEX)\n",
    "\n",
    "arr.insert(3,\" furrrr \");\n",
    "print(arr);"
   ]
  },
  {
   "cell_type": "code",
   "execution_count": 16,
   "id": "19c203ff",
   "metadata": {},
   "outputs": [
    {
     "name": "stdout",
     "output_type": "stream",
     "text": [
      "['Mustansar Hussain Kakkar', ' furrrr ', 5.69]\n"
     ]
    }
   ],
   "source": [
    "# SLICING (CHUNK) (it picks some values from the array and saves into anther variable)\n",
    "\n",
    "arr2 = arr[2:5];\n",
    "print(arr2);"
   ]
  },
  {
   "cell_type": "code",
   "execution_count": 17,
   "id": "8a665cdd",
   "metadata": {},
   "outputs": [
    {
     "name": "stdout",
     "output_type": "stream",
     "text": [
      "[12]\n"
     ]
    }
   ],
   "source": [
    "arr2 = arr[1:2];\n",
    "print(arr2);"
   ]
  },
  {
   "cell_type": "code",
   "execution_count": 19,
   "id": "5905761c",
   "metadata": {},
   "outputs": [
    {
     "data": {
      "text/plain": [
       "['lion', 12, 'Mustansar Hussain Kakkar', ' furrrr ', 5.69, '5.69', 'dkwgjbv']"
      ]
     },
     "execution_count": 19,
     "metadata": {},
     "output_type": "execute_result"
    }
   ],
   "source": [
    "arr"
   ]
  },
  {
   "cell_type": "code",
   "execution_count": 20,
   "id": "d6ceab82",
   "metadata": {},
   "outputs": [
    {
     "data": {
      "text/plain": [
       "[12]"
      ]
     },
     "execution_count": 20,
     "metadata": {},
     "output_type": "execute_result"
    }
   ],
   "source": [
    "arr2"
   ]
  },
  {
   "cell_type": "code",
   "execution_count": 21,
   "id": "e5869795",
   "metadata": {},
   "outputs": [
    {
     "data": {
      "text/plain": [
       "['lion', 12, 'Mustansar Hussain Kakkar', ' furrrr ', 5.69, '5.69', 'dkwgjbv']"
      ]
     },
     "execution_count": 21,
     "metadata": {},
     "output_type": "execute_result"
    }
   ],
   "source": [
    "arr\n"
   ]
  },
  {
   "cell_type": "code",
   "execution_count": 22,
   "id": "5598abef",
   "metadata": {},
   "outputs": [
    {
     "name": "stdout",
     "output_type": "stream",
     "text": [
      "[' furrrr ', 5.69, '5.69', 'dkwgjbv']\n"
     ]
    }
   ],
   "source": [
    "arr3 = arr[3:7];\n",
    "print(arr3);"
   ]
  },
  {
   "cell_type": "code",
   "execution_count": 23,
   "id": "909de6e1",
   "metadata": {},
   "outputs": [
    {
     "name": "stdout",
     "output_type": "stream",
     "text": [
      "[' furrrr ', 5.69]\n"
     ]
    }
   ],
   "source": [
    "# ONLY ONE COLON (it counts from the zero \"0\" index )\n",
    "\n",
    "arr4 = arr3[:2];\n",
    "print(arr4);"
   ]
  },
  {
   "cell_type": "code",
   "execution_count": 24,
   "id": "25ace40a",
   "metadata": {},
   "outputs": [
    {
     "data": {
      "text/plain": [
       "['lion', 12, 'Mustansar Hussain Kakkar', ' furrrr ', 5.69, '5.69', 'dkwgjbv']"
      ]
     },
     "execution_count": 24,
     "metadata": {},
     "output_type": "execute_result"
    }
   ],
   "source": [
    "arr"
   ]
  },
  {
   "cell_type": "code",
   "execution_count": 26,
   "id": "c4b4bd9c",
   "metadata": {},
   "outputs": [
    {
     "name": "stdout",
     "output_type": "stream",
     "text": [
      "['lion', 12, ' furrrr ', 5.69, '5.69', 'dkwgjbv']\n"
     ]
    }
   ],
   "source": [
    "# DELETES AN ELEMENT FROM THE LIST  \n",
    "\n",
    "del arr[2];\n",
    "print(arr);"
   ]
  },
  {
   "cell_type": "code",
   "execution_count": 27,
   "id": "103604f0",
   "metadata": {},
   "outputs": [
    {
     "name": "stdout",
     "output_type": "stream",
     "text": [
      "[' furrrr ', 5.69, '5.69', 'dkwgjbv']\n"
     ]
    }
   ],
   "source": [
    "del arr[:2];\n",
    "print(arr);"
   ]
  },
  {
   "cell_type": "code",
   "execution_count": 31,
   "id": "40af812a",
   "metadata": {},
   "outputs": [
    {
     "data": {
      "text/plain": [
       "[' furrrr ', 5.69, '5.69', 'dkwgjbv']"
      ]
     },
     "execution_count": 31,
     "metadata": {},
     "output_type": "execute_result"
    }
   ],
   "source": [
    "arr\n"
   ]
  },
  {
   "cell_type": "code",
   "execution_count": 40,
   "id": "b432ef5f",
   "metadata": {},
   "outputs": [
    {
     "name": "stdout",
     "output_type": "stream",
     "text": [
      "[' furrrr ', '5.69']\n"
     ]
    }
   ],
   "source": [
    "# POP ( removes an element from the last )\n",
    "\n",
    "arr.pop();\n",
    "print(arr);"
   ]
  },
  {
   "cell_type": "code",
   "execution_count": 41,
   "id": "5fe5c538",
   "metadata": {},
   "outputs": [
    {
     "data": {
      "text/plain": [
       "[' furrrr ', '5.69']"
      ]
     },
     "execution_count": 41,
     "metadata": {},
     "output_type": "execute_result"
    }
   ],
   "source": [
    "arr"
   ]
  }
 ],
 "metadata": {
  "kernelspec": {
   "display_name": "Python 3",
   "language": "python",
   "name": "python3"
  },
  "language_info": {
   "codemirror_mode": {
    "name": "ipython",
    "version": 3
   },
   "file_extension": ".py",
   "mimetype": "text/x-python",
   "name": "python",
   "nbconvert_exporter": "python",
   "pygments_lexer": "ipython3",
   "version": "3.8.8"
  }
 },
 "nbformat": 4,
 "nbformat_minor": 5
}
