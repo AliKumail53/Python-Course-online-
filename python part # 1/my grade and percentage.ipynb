{
 "cells": [
  {
   "cell_type": "code",
   "execution_count": null,
   "id": "ba73edcc",
   "metadata": {},
   "outputs": [],
   "source": [
    "Es1 = float(input(\"english\"));\n",
    "Is1 = float(input(\"islamiat\"));\n",
    "Ms1 = float(input(\"math\"));\n",
    "Xm = float(input(\"maximum\"));\n",
    "if Es1 > Xm or Is1 > Xm or Ms1 > Xm:\n",
    "    print(\"Invalid Marks\");\n",
    "TM = Es1 + Is1 + Ms1;\n",
    "perc = totalmarks / 300 * 100;\n",
    "print(\"got\",perc,\"%\");\n",
    "if perc < 100 and perc > 90:\n",
    "    print(\"Grade A+\");\n",
    "elif perc < 89.99 and perc > 80:\n",
    "    print(\"Grade A\");\n",
    "elif perc < 79.99 and perc > 70:\n",
    "    print(\"Grade B\");\n",
    "elif perc < 69.99 and perc > 60:\n",
    "    print(\"Grade C\");\n",
    "elif perc < 59.99 and perc > 50:\n",
    "    print(\"Grade D\");\n",
    "elif perc < 49.99 and perc > 40:\n",
    "    print(\"Grade E\");\n",
    "else:\n",
    "    print(\"Fail\");"
   ]
  },
  {
   "cell_type": "code",
   "execution_count": null,
   "id": "0a00e49d",
   "metadata": {},
   "outputs": [],
   "source": [
    "Es1 = float(input(\"english\"));\n",
    "Is1 = float(input(\"islamiat\"));\n",
    "Ms1 = float(input(\"math\"));\n",
    "Xm = float(input(\"maximum\"));\n",
    "if Es1 > Xm or Is1 > Xm or Ms1 > Xm:\n",
    "    print(\"Invalid Marks\");\n",
    "TM = Es1 + Is1 + Ms1;\n",
    "perc = totalmarks / 300 * 100;\n",
    "print(\"got\",perc,\"%\");\n",
    "if perc < 100 and perc > 90:\n",
    "    print(\"Grade A+\");\n",
    "elif perc < 89.99 and perc > 80:\n",
    "    print(\"Grade A\");\n",
    "elif perc < 79.99 and perc > 70:\n",
    "    print(\"Grade B\");\n",
    "elif perc < 69.99 and perc > 60:\n",
    "    print(\"Grade C\");\n",
    "elif perc < 59.99 and perc > 50:\n",
    "    print(\"Grade D\");\n",
    "elif perc < 49.99 and perc > 40:\n",
    "    print(\"Grade E\");\n",
    "else:\n",
    "    print(\"Fail\");"
   ]
  },
  {
   "cell_type": "code",
   "execution_count": null,
   "id": "ee612ca8",
   "metadata": {},
   "outputs": [],
   "source": []
  }
 ],
 "metadata": {
  "kernelspec": {
   "display_name": "Python 3",
   "language": "python",
   "name": "python3"
  },
  "language_info": {
   "codemirror_mode": {
    "name": "ipython",
    "version": 3
   },
   "file_extension": ".py",
   "mimetype": "text/x-python",
   "name": "python",
   "nbconvert_exporter": "python",
   "pygments_lexer": "ipython3",
   "version": "3.8.8"
  }
 },
 "nbformat": 4,
 "nbformat_minor": 5
}
